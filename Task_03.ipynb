{
  "nbformat": 4,
  "nbformat_minor": 0,
  "metadata": {
    "colab": {
      "provenance": []
    },
    "kernelspec": {
      "name": "python3",
      "display_name": "Python 3"
    },
    "language_info": {
      "name": "python"
    }
  },
  "cells": [
    {
      "cell_type": "code",
      "source": [
        "import zipfile\n",
        "import os\n",
        "\n",
        "train_zip_path = '/content/train.zip'\n",
        "test_zip_path = '/content/test.zip'\n",
        "\n",
        "train_output_dir = '/content/cats_dogs_dataset/train'\n",
        "test_output_dir = '/content/cats_dogs_dataset/test'\n",
        "\n",
        "with zipfile.ZipFile(train_zip_path, 'r') as zip_ref:\n",
        "    zip_ref.extractall(train_output_dir)\n",
        "\n",
        "with zipfile.ZipFile(test_zip_path, 'r') as zip_ref:\n",
        "    zip_ref.extractall(test_output_dir)\n",
        "\n",
        "print('Train folder contents:', os.listdir(train_output_dir))\n",
        "print('Test folder contents:', os.listdir(test_output_dir))\n"
      ],
      "metadata": {
        "colab": {
          "base_uri": "https://localhost:8080/"
        },
        "id": "0yVokz_UJ_DO",
        "outputId": "abce1a62-be7c-42d0-86e0-a6775cd5f331"
      },
      "execution_count": 1,
      "outputs": [
        {
          "output_type": "stream",
          "name": "stdout",
          "text": [
            "Train folder contents: ['cats', '__MACOSX', 'dogs']\n",
            "Test folder contents: ['cats', '__MACOSX', 'dogs']\n"
          ]
        }
      ]
    },
    {
      "cell_type": "code",
      "source": [
        "import shutil\n",
        "\n",
        "macosx_train_dir = os.path.join(train_output_dir, '__MACOSX')\n",
        "macosx_test_dir = os.path.join(test_output_dir, '__MACOSX')\n",
        "\n",
        "if os.path.exists(macosx_train_dir):\n",
        "    shutil.rmtree(macosx_train_dir)\n",
        "\n",
        "if os.path.exists(macosx_test_dir):\n",
        "    shutil.rmtree(macosx_test_dir)\n",
        "\n",
        "print('Deleted __MACOSX folders if they existed.')\n"
      ],
      "metadata": {
        "colab": {
          "base_uri": "https://localhost:8080/"
        },
        "id": "ixZO-3rdL-XK",
        "outputId": "bee01426-fc3a-4b58-c358-60b547ba3645"
      },
      "execution_count": 2,
      "outputs": [
        {
          "output_type": "stream",
          "name": "stdout",
          "text": [
            "Deleted __MACOSX folders if they existed.\n"
          ]
        }
      ]
    },
    {
      "cell_type": "code",
      "source": [
        "import cv2\n",
        "import numpy as np\n",
        "\n",
        "img_size = 64\n",
        "\n",
        "def preprocess_images(directory):\n",
        "    images = []\n",
        "    labels = []\n",
        "\n",
        "    cat_dir = os.path.join(directory, 'train', 'cats')\n",
        "    for filename in os.listdir(cat_dir):\n",
        "        img_path = os.path.join(cat_dir, filename)\n",
        "        img = cv2.imread(img_path, cv2.IMREAD_GRAYSCALE)\n",
        "        img = cv2.resize(img, (img_size, img_size))\n",
        "        img = img.flatten()\n",
        "        images.append(img)\n",
        "        labels.append(0)\n",
        "\n",
        "    dog_dir = os.path.join(directory, 'train', 'dogs')\n",
        "    for filename in os.listdir(dog_dir):\n",
        "        img_path = os.path.join(dog_dir, filename)\n",
        "        img = cv2.imread(img_path, cv2.IMREAD_GRAYSCALE)\n",
        "        img = cv2.resize(img, (img_size, img_size))\n",
        "        img = img.flatten()\n",
        "        images.append(img)\n",
        "        labels.append(1)\n",
        "\n",
        "    return np.array(images), np.array(labels)\n",
        "\n",
        "X, y = preprocess_images('/content/cats_dogs_dataset')\n",
        "X = X / 255.0\n"
      ],
      "metadata": {
        "id": "z1Q4I1y8MgOe"
      },
      "execution_count": 3,
      "outputs": []
    },
    {
      "cell_type": "code",
      "source": [
        "from sklearn.model_selection import train_test_split\n",
        "\n",
        "X_train, X_val, y_train, y_val = train_test_split(X, y, test_size=0.2, random_state=42)\n",
        "\n",
        "print(f'Training set size: {len(X_train)}, Validation set size: {len(X_val)}')\n"
      ],
      "metadata": {
        "colab": {
          "base_uri": "https://localhost:8080/"
        },
        "id": "-mOKS0VuM9d7",
        "outputId": "29a2ee21-3f04-4dd4-ac94-4e42d1deeb81"
      },
      "execution_count": 4,
      "outputs": [
        {
          "output_type": "stream",
          "name": "stdout",
          "text": [
            "Training set size: 445, Validation set size: 112\n"
          ]
        }
      ]
    },
    {
      "cell_type": "code",
      "source": [
        "from sklearn.preprocessing import StandardScaler\n",
        "\n",
        "scaler = StandardScaler()\n",
        "X_train = scaler.fit_transform(X_train)\n",
        "X_val = scaler.transform(X_val)\n"
      ],
      "metadata": {
        "id": "nFQAuL8oTcuI"
      },
      "execution_count": 5,
      "outputs": []
    },
    {
      "cell_type": "code",
      "source": [
        "from sklearn.svm import SVC\n",
        "from sklearn.metrics import accuracy_score\n",
        "\n",
        "svm = SVC(kernel='rbf', random_state=42)\n",
        "svm.fit(X_train, y_train)\n",
        "\n",
        "y_pred = svm.predict(X_val)\n",
        "\n",
        "accuracy = accuracy_score(y_val, y_pred)\n",
        "print(f'Validation Accuracy with RBF Kernel: {accuracy * 100:.2f}%')\n"
      ],
      "metadata": {
        "colab": {
          "base_uri": "https://localhost:8080/"
        },
        "id": "C4PwguonTnSo",
        "outputId": "0fb5b2fd-a2d8-47f5-f71c-2781668da594"
      },
      "execution_count": 6,
      "outputs": [
        {
          "output_type": "stream",
          "name": "stdout",
          "text": [
            "Validation Accuracy with RBF Kernel: 56.25%\n"
          ]
        }
      ]
    },
    {
      "cell_type": "code",
      "source": [
        "from sklearn.metrics import confusion_matrix, classification_report\n",
        "import seaborn as sns\n",
        "import matplotlib.pyplot as plt\n",
        "\n",
        "cm = confusion_matrix(y_val, y_pred)\n",
        "print(\"Confusion Matrix:\\n\", cm)\n",
        "\n",
        "report = classification_report(y_val, y_pred, target_names=['Cats', 'Dogs'])\n",
        "print(\"Classification Report:\\n\", report)\n",
        "\n",
        "plt.figure(figsize=(8, 6))\n",
        "sns.heatmap(cm, annot=True, fmt='d', cmap='Blues', xticklabels=['Cats', 'Dogs'], yticklabels=['Cats', 'Dogs'])\n",
        "plt.xlabel('Predicted')\n",
        "plt.ylabel('True')\n",
        "plt.title('Confusion Matrix')\n",
        "plt.show()"
      ],
      "metadata": {
        "colab": {
          "base_uri": "https://localhost:8080/",
          "height": 790
        },
        "id": "eDuKqF-ET2QI",
        "outputId": "5d2f421e-abcc-40b4-b2dd-908c6cfe69e9"
      },
      "execution_count": 7,
      "outputs": [
        {
          "output_type": "stream",
          "name": "stdout",
          "text": [
            "Confusion Matrix:\n",
            " [[38 26]\n",
            " [23 25]]\n",
            "Classification Report:\n",
            "               precision    recall  f1-score   support\n",
            "\n",
            "        Cats       0.62      0.59      0.61        64\n",
            "        Dogs       0.49      0.52      0.51        48\n",
            "\n",
            "    accuracy                           0.56       112\n",
            "   macro avg       0.56      0.56      0.56       112\n",
            "weighted avg       0.57      0.56      0.56       112\n",
            "\n"
          ]
        },
        {
          "output_type": "display_data",
          "data": {
            "text/plain": [
              "<Figure size 800x600 with 2 Axes>"
            ],
            "image/png": "[encoded data removed]"
          },
          "metadata": {}
        }
      ]
    },
    {
      "cell_type": "code",
      "source": [
        "from sklearn.model_selection import cross_val_score\n",
        "\n",
        "svm = SVC(kernel='rbf', class_weight='balanced')\n",
        "svm.fit(X_train, y_train)\n",
        "\n",
        "scores = cross_val_score(svm, X_train, y_train, cv=5)\n",
        "print(f'Cross-Validation Accuracy: {scores.mean() * 100:.2f}%')"
      ],
      "metadata": {
        "colab": {
          "base_uri": "https://localhost:8080/"
        },
        "id": "eESaamJykd5w",
        "outputId": "a8eb1817-dacc-4974-8d86-06af5d43a260"
      },
      "execution_count": 8,
      "outputs": [
        {
          "output_type": "stream",
          "name": "stdout",
          "text": [
            "Cross-Validation Accuracy: 61.35%\n"
          ]
        }
      ]
    }
  ]
}